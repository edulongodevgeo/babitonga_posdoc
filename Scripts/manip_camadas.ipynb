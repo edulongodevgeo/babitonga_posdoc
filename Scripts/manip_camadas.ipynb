{
 "cells": [
  {
   "cell_type": "markdown",
   "id": "747f5bea",
   "metadata": {},
   "source": [
    "🐍 Script Python para recorte (clip)"
   ]
  },
  {
   "cell_type": "code",
   "execution_count": 6,
   "id": "206a9a12",
   "metadata": {},
   "outputs": [
    {
     "name": "stdout",
     "output_type": "stream",
     "text": [
      "✅ Recorte concluído! Camada salva como 'hid_agua_recortada.gpkg'.\n"
     ]
    }
   ],
   "source": [
    "import geopandas as gpd\n",
    "\n",
    "# Caminhos dos arquivos GeoPackage separados\n",
    "agua_path = r\"C:\\Users\\Edu\\Documents\\babitongos\\babitonga_posdoc\\Camadas\\Geopackage\\IBGE\\hid_massa_agua_2020_bc25.gpkg\"\n",
    "mun_path = r\"C:\\Users\\Edu\\Documents\\babitongos\\babitonga_posdoc\\Camadas\\Geopackage\\IBGE\\mun_6selec_4674.gpkg\"\n",
    "\n",
    "# Lê diretamente os arquivos (sem 'layer', já que eles têm uma única camada)\n",
    "agua = gpd.read_file(agua_path)\n",
    "municipios = gpd.read_file(mun_path)\n",
    "\n",
    "# Garante que ambos estão no mesmo sistema de coordenadas\n",
    "if agua.crs != municipios.crs:\n",
    "    municipios = municipios.to_crs(agua.crs)\n",
    "\n",
    "# Recorta a camada de água pela camada de municípios\n",
    "agua_clip = gpd.clip(agua, municipios)\n",
    "\n",
    "# Exporta para novo arquivo GPKG\n",
    "saida_path = r\"C:\\Users\\Edu\\Documents\\babitongos\\babitonga_posdoc\\Camadas\\Geopackage\\IBGE\\hid_agua_recortada.gpkg\"\n",
    "agua_clip.to_file(saida_path, driver=\"GPKG\")\n",
    "\n",
    "print(\"✅ Recorte concluído! Camada salva como 'hid_agua_recortada.gpkg'.\")\n"
   ]
  }
 ],
 "metadata": {
  "kernelspec": {
   "display_name": "Python 3",
   "language": "python",
   "name": "python3"
  },
  "language_info": {
   "codemirror_mode": {
    "name": "ipython",
    "version": 3
   },
   "file_extension": ".py",
   "mimetype": "text/x-python",
   "name": "python",
   "nbconvert_exporter": "python",
   "pygments_lexer": "ipython3",
   "version": "3.11.3"
  }
 },
 "nbformat": 4,
 "nbformat_minor": 5
}
